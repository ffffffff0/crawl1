{
 "cells": [
  {
   "cell_type": "code",
   "execution_count": 7,
   "metadata": {
    "collapsed": false
   },
   "outputs": [],
   "source": [
    "from lxml import etree"
   ]
  },
  {
   "cell_type": "code",
   "execution_count": 8,
   "metadata": {
    "collapsed": false
   },
   "outputs": [],
   "source": [
    "from bs4 import BeautifulSoup"
   ]
  },
  {
   "cell_type": "code",
   "execution_count": 24,
   "metadata": {
    "collapsed": true
   },
   "outputs": [],
   "source": [
    "import re"
   ]
  },
  {
   "cell_type": "code",
   "execution_count": 18,
   "metadata": {
    "collapsed": false
   },
   "outputs": [
    {
     "name": "stdout",
     "output_type": "stream",
     "text": [
      "Using matplotlib backend: TkAgg\n"
     ]
    }
   ],
   "source": [
    "%matplotlib"
   ]
  },
  {
   "cell_type": "code",
   "execution_count": 9,
   "metadata": {
    "collapsed": true
   },
   "outputs": [],
   "source": [
    "html = '''\n",
    "<!DOCTYPE html>\n",
    "<html>\n",
    "<head><meta http-equiv=\"content-type\" content=\"text/html;charset=utf-8\"><meta http-equiv=\"X-UA-Compatible\" content=\"IE=Edge\"><meta content=\"never\" name=\"referrer\"><title>百度一下，你就知道</title>\n",
    "</head>\n",
    "<body link=\"#0000cc\" style=\"display:block\">\n",
    "  <div id=\"wrapper\">\n",
    "    <div id=\"head\">\n",
    "      <div class=\"head_wrapper\">\n",
    "        <div class=\"s_form\">\n",
    "          <div class=\"s_form_wrapper\">\n",
    "            <div id=\"lg\">\n",
    "              <img hidefocus=\"true\" src=\"//www.baidu.com/img/bd_logo1.png\" width=\"270\" height=\"129\">\n",
    "            </div><a href=\"/\" id=\"result_logo\">\n",
    "              <img src=\"http://www.baidu.com/img/baidu_jgylogo3.gif\" alt=\"到百度首页\" title=\"到百度首页\">\n",
    "            </a><form id=\"form\" name=\"f\" action=\"https://www.baidu.com/s\" class=\"fm\" onsubmit=\"os();return false;\">\n",
    "              <input type=\"hidden\" name=\"ie\" value=\"utf-8\">\n",
    "              <input type=\"hidden\" name=\"f\" value=\"8\">\n",
    "              <input type=\"hidden\" name=\"rsv_bp\" value=\"1\">\n",
    "              <input type=\"hidden\" name=\"rsr\" value=\"1\">\n",
    "              <input type=\"hidden\" name=\"rsv_idx\" value=\"1\">\n",
    "              <input type=hidden name=\"ch\" value=\"\">\n",
    "              <input type=hidden name=\"rv_sd\" value=\"13660_13387_13439_13203_13287_13602_13161_13257_11558_13085_8498\">\n",
    "              <input type=hidden name=\"xpth\" value=\"http%3A%2F%2Fwww.baidu.com%2Fs%3Fie%3Dutf-8%26f%3D8%26rsv_bp%3D1%26tn%3D%26wd%3Djquery%2520get%26rsv_pq%3D85cb9ab80001cc79%26rsv_t%3D5e5dhOzL7ZokcuO8mFu469Q5e9REnkJL1CKxnvfTLS5NLzBtEZvCU0fuv4s%26rsv_enter%3D1%26rsv_sug3%3D11%26rsv_sug1%3D7%26rsv_sug2%3D0%26inputT%3D2736%26rsv_sug4%3D4394 \">\n",
    "              <input type=hidden name=\"tn\" id=\"idtn\" value=\"baidu\">\n",
    "              <input type=hidden name=\"bar\" value=\"\">\n",
    "              <span class=\"bg s_ipt_wr\">\n",
    "                <input id=\"kw\" name=\"word\" class=\"s_ipt\" value=\"\" maxlength=\"255\" autocomplete=\"off\">\n",
    "              </span>\n",
    "              <span class=\"bg s_btn_wr\">\n",
    "                <input type=\"submit\" id=\"su\" value=\"百度一下\" class=\"bg s_btn\">\n",
    "              </span>\n",
    "              <span class=\"tools\">\n",
    "                <span id=\"mHolder\">\n",
    "                  <div id=\"mCon\">\n",
    "                    <span>输入法</span>\n",
    "                  </div>\n",
    "                  <ul id=\"mMenu\">\n",
    "                    <li>\n",
    "                      <a href=\"javascript:;\" name=\"ime_hw\">手写</a>\n",
    "                    </li>\n",
    "                    <li>\n",
    "                      <a href=\"javascript:;\" name=\"ime_py\">拼音</a>\n",
    "                    </li>\n",
    "                    <li class=\"ln\">\n",
    "\n",
    "                    </li>\n",
    "                    <li>\n",
    "                      <a href=\"javascript:;\" name=\"ime_cl\">关闭</a>\n",
    "                    </li>\n",
    "                  </ul>\n",
    "                </span>\n",
    "              </span>\n",
    "              <input type=\"hidden\" name=\"rn\" value=\"\">\n",
    "            </form>\n",
    "          </div>\n",
    "        </div>\n",
    "        <div id=\"u1\">\n",
    "          <a href=\"http://news.baidu.com\" name=\"tj_trnews\" class=\"mnav\">新闻</a>\n",
    "          <a href=\"http://www.hao123.com\" name=\"tj_trhao123\" class=\"mnav\">hao123</a>\n",
    "          <a href=\"http://map.baidu.com\" name=\"tj_trmap\" class=\"mnav\">地图</a>\n",
    "          <a href=\"http://v.baidu.com\" name=\"tj_trvideo\" class=\"mnav\">视频</a>\n",
    "          <a href=\"http://tieba.baidu.com\" name=\"tj_trtieba\" class=\"mnav\">贴吧</a>\n",
    "          <a href=\"http://www.baidu.com/more/\" name=\"tj_briicon\" class=\"bri\" style=\"display: block;\">更多产品</a>\n",
    "        </div>\n",
    "      </div>\n",
    "    </div>\n",
    "    <div id=\"ftCon\">\n",
    "      <div id=\"ftConw\">\n",
    "        <p id=\"lh\">\n",
    "          <a href=\"http://home.baidu.com\">关于百度</a>\n",
    "          <a href=\"http://ir.baidu.com\">About Baidu</a>\n",
    "        </p>\n",
    "        <p id=\"cp\">&copy;2017&nbsp;Baidu&nbsp;\n",
    "          <a href=\"http://www.baidu.com/duty/\">使用百度前必读</a>&nbsp;<a href=\"http://jianyi.baidu.com/\">意见反馈</a>&nbsp;京ICP证030173号&nbsp;\n",
    "          <img src=\"http://www.baidu.com/img/gs.gif\"></p>\n",
    "        </div>\n",
    "      </div>\n",
    "    </div>\n",
    "  </body>\n",
    "  </html>\n",
    "\n",
    "'''"
   ]
  },
  {
   "cell_type": "code",
   "execution_count": 10,
   "metadata": {
    "collapsed": false
   },
   "outputs": [
    {
     "name": "stdout",
     "output_type": "stream",
     "text": [
      "1000 loops, best of 3: 285 µs per loop\n"
     ]
    }
   ],
   "source": [
    "%timeit -n 1000 etree.HTML(html).xpath('//*[@id=\"lg\"]/img/@src')"
   ]
  },
  {
   "cell_type": "code",
   "execution_count": 17,
   "metadata": {
    "collapsed": false
   },
   "outputs": [
    {
     "name": "stdout",
     "output_type": "stream",
     "text": [
      "1000 loops, best of 3: 1.82 ms per loop\n"
     ]
    }
   ],
   "source": [
    "%timeit -n 1000 BeautifulSoup(html, 'lxml').find('img').get('src')"
   ]
  },
  {
   "cell_type": "code",
   "execution_count": 28,
   "metadata": {
    "collapsed": false
   },
   "outputs": [
    {
     "name": "stdout",
     "output_type": "stream",
     "text": [
      "1000 loops, best of 3: 6.35 ms per loop\n"
     ]
    }
   ],
   "source": [
    "%timeit -n 1000 BeautifulSoup(html, 'html5lib').find('img').get('src')"
   ]
  },
  {
   "cell_type": "code",
   "execution_count": 29,
   "metadata": {
    "collapsed": false
   },
   "outputs": [
    {
     "name": "stdout",
     "output_type": "stream",
     "text": [
      "1000 loops, best of 3: 2.55 ms per loop\n"
     ]
    }
   ],
   "source": [
    "%timeit -n 1000 BeautifulSoup(html, 'html.parser').find('img').get('src')"
   ]
  },
  {
   "cell_type": "code",
   "execution_count": 25,
   "metadata": {
    "collapsed": false
   },
   "outputs": [],
   "source": [
    "from pandas import Series"
   ]
  },
  {
   "cell_type": "code",
   "execution_count": 33,
   "metadata": {
    "collapsed": true
   },
   "outputs": [],
   "source": [
    "data = Series([285, 1820, 6350, 2550], index=['xpath', 'bs4_lxml', 'bs4_html5lib', 'bs4_html.parser'])"
   ]
  },
  {
   "cell_type": "code",
   "execution_count": 34,
   "metadata": {
    "collapsed": true
   },
   "outputs": [],
   "source": [
    "data.sort_values(inplace=True)"
   ]
  },
  {
   "cell_type": "code",
   "execution_count": 35,
   "metadata": {
    "collapsed": false
   },
   "outputs": [
    {
     "data": {
      "text/plain": [
       "<matplotlib.axes._subplots.AxesSubplot at 0x7efe5c2f7fd0>"
      ]
     },
     "execution_count": 35,
     "metadata": {},
     "output_type": "execute_result"
    }
   ],
   "source": [
    "data.plot(kind='bar')"
   ]
  },
  {
   "cell_type": "code",
   "execution_count": null,
   "metadata": {
    "collapsed": true
   },
   "outputs": [],
   "source": []
  }
 ],
 "metadata": {
  "kernelspec": {
   "display_name": "Python 3",
   "language": "python",
   "name": "python3"
  },
  "language_info": {
   "codemirror_mode": {
    "name": "ipython",
    "version": 3
   },
   "file_extension": ".py",
   "mimetype": "text/x-python",
   "name": "python",
   "nbconvert_exporter": "python",
   "pygments_lexer": "ipython3",
   "version": "3.5.2"
  }
 },
 "nbformat": 4,
 "nbformat_minor": 2
}
